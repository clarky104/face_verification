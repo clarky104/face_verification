{
 "cells": [
  {
   "cell_type": "code",
   "execution_count": null,
   "metadata": {},
   "outputs": [],
   "source": [
    "import glob\n",
    "import shutil\n",
    "import os\n",
    "import numpy as np"
   ]
  },
  {
   "cell_type": "code",
   "execution_count": null,
   "metadata": {},
   "outputs": [],
   "source": [
    "np.random.seed(30)\n",
    "\n",
    "files = glob.glob('./data/*/*jpg')\n",
    "unverified_files = []\n",
    "verified_files = []\n",
    "\n",
    "for filename in files:\n",
    "    if '113' not in filename:\n",
    "        unverified_files.append(filename)\n",
    "    else:\n",
    "        verified_files.append(filename)"
   ]
  },
  {
   "cell_type": "code",
   "execution_count": null,
   "metadata": {},
   "outputs": [],
   "source": [
    "verified_train = np.random.choice(verified_files, size = 3, replace = False)\n",
    "verified_files = list(set(verified_files) - set(verified_train))\n",
    "unverified_train = np.random.choice(unverified_files, size = 90, replace = False)\n",
    "unverified_files = list(set(unverified_files) - set(unverified_train))\n",
    "\n",
    "verified_val = np.random.choice(verified_files, size = 1, replace = False)\n",
    "verified_files = list(set(verified_files) - set(verified_train))\n",
    "unverified_val = np.random.choice(unverified_files, size = 30, replace = False)\n",
    "unverified_files = list(set(unverified_train) - set(unverified_val))\n",
    "\n",
    "verified_test = np.random.choice(verified_files, size = 1, replace = False)\n",
    "verified_files = list(set(verified_files) - set(verified_test))\n",
    "unverified_test = np.random.choice(unverified_files, size = 30, replace = False)\n",
    "unverified_files = list(set(unverified_train) - set(unverified_test))\n",
    "\n",
    "print('Verified datasets', verified_train.shape, verified_val.shape, verified_test.shape)\n",
    "print('Unverified datasets', unverified_train.shape, unverified_val.shape, unverified_test.shape)"
   ]
  },
  {
   "cell_type": "markdown",
   "metadata": {},
   "source": [
    "##### Creates new folders and adds the images into their respective folders"
   ]
  },
  {
   "cell_type": "code",
   "execution_count": null,
   "metadata": {},
   "outputs": [],
   "source": [
    "train_dir = 'train_data'\n",
    "val_dir = 'val_data'\n",
    "test_dir = 'test_data'\n",
    "\n",
    "train_files = np.concatenate([verified_train, unverified_train])\n",
    "val_files = np.concatenate([verified_val, unverified_val])\n",
    "test_files = np.concatenate([verified_test, unverified_test])\n",
    "\n",
    "os.mkdir(train_dir) if not os.path.isdir(train_dir) else None\n",
    "os.mkdir(val_dir) if not os.path.isdir(val_dir) else None\n",
    "os.mkdir(test_dir) if not os.path.isdir(test_dir) else None\n",
    "\n",
    "for filename in train_files:\n",
    "    shutil.copy(filename, train_dir)\n",
    "for filename in val_files:\n",
    "    shutil.copy(filename, val_dir)\n",
    "for filename in test_files:\n",
    "    shutil.copy(filename, test_dir)"
   ]
  }
 ],
 "metadata": {
  "kernelspec": {
   "display_name": "Python 3",
   "language": "python",
   "name": "python3"
  },
  "language_info": {
   "codemirror_mode": {
    "name": "ipython",
    "version": 3
   },
   "file_extension": ".py",
   "mimetype": "text/x-python",
   "name": "python",
   "nbconvert_exporter": "python",
   "pygments_lexer": "ipython3",
   "version": "3.7.6"
  }
 },
 "nbformat": 4,
 "nbformat_minor": 4
}
